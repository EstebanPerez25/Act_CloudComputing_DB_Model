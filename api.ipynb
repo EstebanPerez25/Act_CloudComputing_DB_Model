{
 "cells": [
  {
   "cell_type": "markdown",
   "id": "c11ec6f0",
   "metadata": {},
   "source": [
    "# Uso del modelo desplegado"
   ]
  },
  {
   "cell_type": "markdown",
   "id": "d3322bec",
   "metadata": {},
   "source": [
    "### Librerías"
   ]
  },
  {
   "cell_type": "code",
   "execution_count": 1,
   "id": "4258bb25",
   "metadata": {},
   "outputs": [],
   "source": [
    "import pandas as pd\n",
    "import json\n",
    "import requests"
   ]
  },
  {
   "cell_type": "markdown",
   "id": "cf8805ec",
   "metadata": {},
   "source": [
    "### Leer datos de prueba"
   ]
  },
  {
   "cell_type": "code",
   "execution_count": 3,
   "id": "31cd59e5",
   "metadata": {},
   "outputs": [],
   "source": [
    "testAPI_data = pd.read_csv(\"testAPI.csv\")\n",
    "test_dict = testAPI_data.to_dict(orient='list')"
   ]
  },
  {
   "cell_type": "markdown",
   "id": "fc7140e6",
   "metadata": {},
   "source": [
    "### Convertir a json para introducirlos a la API"
   ]
  },
  {
   "cell_type": "code",
   "execution_count": null,
   "id": "f494cd00",
   "metadata": {},
   "outputs": [],
   "source": [
    "data_json = json.dumps({\"data\": [test_dict]})\n",
    "\n",
    "suri = open(\"uri.json\", \"r\")\n",
    "scoring_uri = json.load(suri)[\"URI\"][0]\n",
    "suri.close()"
   ]
  },
  {
   "cell_type": "markdown",
   "id": "63ffa0f7",
   "metadata": {},
   "source": [
    "### Utilizar modelo desplegado a través de API"
   ]
  },
  {
   "cell_type": "code",
   "execution_count": 7,
   "id": "87ad9f45",
   "metadata": {},
   "outputs": [
    {
     "name": "stdout",
     "output_type": "stream",
     "text": [
      "{'result': [366.5320855614975, 366.5320855614975, 366.5320855614975, 366.5320855614975, 366.5320855614975]}\n"
     ]
    },
    {
     "data": {
      "text/plain": [
       "0    366.532086\n",
       "1    366.532086\n",
       "2    366.532086\n",
       "3    366.532086\n",
       "4    366.532086\n",
       "Name: API prediction, dtype: float64"
      ]
     },
     "metadata": {},
     "output_type": "display_data"
    }
   ],
   "source": [
    "headers = {\"Content-Type\": \"application/json\"}\n",
    "\n",
    "response = requests.post(scoring_uri, data=data_json, headers=headers)\n",
    "\n",
    "\n",
    "if response.status_code == 200:\n",
    "  result = json.loads(response.json())\n",
    "  print(result)\n",
    "  testAPI_data[\"API prediction\"] = result['result']\n",
    "  display(testAPI_data['API prediction'])\n",
    "else:\n",
    "  print(f\"Error: {response.text}\")"
   ]
  },
  {
   "cell_type": "code",
   "execution_count": null,
   "id": "acc4e9b5",
   "metadata": {},
   "outputs": [],
   "source": []
  }
 ],
 "metadata": {
  "kernelspec": {
   "display_name": ".venv",
   "language": "python",
   "name": "python3"
  },
  "language_info": {
   "codemirror_mode": {
    "name": "ipython",
    "version": 3
   },
   "file_extension": ".py",
   "mimetype": "text/x-python",
   "name": "python",
   "nbconvert_exporter": "python",
   "pygments_lexer": "ipython3",
   "version": "3.11.5"
  }
 },
 "nbformat": 4,
 "nbformat_minor": 5
}
