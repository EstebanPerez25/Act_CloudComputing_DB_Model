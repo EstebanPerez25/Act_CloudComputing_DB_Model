{
 "cells": [
  {
   "cell_type": "markdown",
   "id": "753d3c86",
   "metadata": {},
   "source": [
    "# Creación del modelo"
   ]
  },
  {
   "cell_type": "markdown",
   "id": "776fa106",
   "metadata": {},
   "source": [
    "### Librerías"
   ]
  },
  {
   "cell_type": "code",
   "execution_count": 2,
   "id": "31c1d38d",
   "metadata": {},
   "outputs": [],
   "source": [
    "import pandas as pd\n",
    "import json\n",
    "import pyodbc\n",
    "\n",
    "from sklearn.linear_model import LinearRegression\n",
    "from sklearn.model_selection import train_test_split\n",
    "from sklearn.metrics import mean_squared_error, r2_score\n",
    "\n",
    "import pickle\n",
    "import joblib"
   ]
  },
  {
   "cell_type": "markdown",
   "id": "e0ca23db",
   "metadata": {},
   "source": [
    "### 1. Conexión a Base de Datos"
   ]
  },
  {
   "cell_type": "code",
   "execution_count": 3,
   "id": "4bebe0bd",
   "metadata": {},
   "outputs": [],
   "source": [
    "id = open('credentials.json', 'r')\n",
    "mi = json.load(id)\n",
    "\n",
    "server = mi[\"server\"] \n",
    "database = mi[\"database\"] \n",
    "username = mi[\"user\"]\n",
    "password = mi[\"password\"]"
   ]
  },
  {
   "cell_type": "code",
   "execution_count": 4,
   "id": "f50ea585",
   "metadata": {},
   "outputs": [
    {
     "name": "stdout",
     "output_type": "stream",
     "text": [
      "Error connecting to the database: ('08001', '[08001] [Microsoft][ODBC Driver 17 for SQL Server]TCP Provider: Timeout error [258].  (258) (SQLDriverConnect); [08001] [Microsoft][ODBC Driver 17 for SQL Server]Login timeout expired (0); [08001] [Microsoft][ODBC Driver 17 for SQL Server]Unable to complete login process due to delay in login response (258)')\n"
     ]
    }
   ],
   "source": [
    "# Define the connection string for SQL Server (Azure)\n",
    "conn_str = (\n",
    "    f'DRIVER={{ODBC Driver 17 for SQL Server}};'\n",
    "    f'SERVER={server};'\n",
    "    f'DATABASE={database};'\n",
    "    f'UID={username};'\n",
    "    f'PWD={password}'\n",
    ")\n",
    "\n",
    "# Establish the connection\n",
    "try:\n",
    "    conn = pyodbc.connect(conn_str)\n",
    "    print(\"Connected to the Azure SQL Database successfully!\")\n",
    "\n",
    "except pyodbc.Error as e:\n",
    "    print(f\"Error connecting to the database: {e}\")"
   ]
  },
  {
   "cell_type": "code",
   "execution_count": 5,
   "id": "2cc74679",
   "metadata": {},
   "outputs": [
    {
     "data": {
      "application/vnd.microsoft.datawrangler.viewer.v0+json": {
       "columns": [
        {
         "name": "index",
         "rawType": "int64",
         "type": "integer"
        },
        {
         "name": "CustomerID",
         "rawType": "int64",
         "type": "integer"
        },
        {
         "name": "NameStyle",
         "rawType": "bool",
         "type": "boolean"
        },
        {
         "name": "Title",
         "rawType": "object",
         "type": "string"
        },
        {
         "name": "FirstName",
         "rawType": "object",
         "type": "string"
        },
        {
         "name": "MiddleName",
         "rawType": "object",
         "type": "unknown"
        },
        {
         "name": "LastName",
         "rawType": "object",
         "type": "string"
        },
        {
         "name": "Suffix",
         "rawType": "object",
         "type": "unknown"
        },
        {
         "name": "CompanyName",
         "rawType": "object",
         "type": "string"
        },
        {
         "name": "SalesPerson",
         "rawType": "object",
         "type": "string"
        },
        {
         "name": "EmailAddress",
         "rawType": "object",
         "type": "string"
        },
        {
         "name": "Phone",
         "rawType": "object",
         "type": "string"
        },
        {
         "name": "PasswordHash",
         "rawType": "object",
         "type": "string"
        },
        {
         "name": "PasswordSalt",
         "rawType": "object",
         "type": "string"
        },
        {
         "name": "rowguid",
         "rawType": "object",
         "type": "string"
        },
        {
         "name": "ModifiedDate",
         "rawType": "object",
         "type": "string"
        }
       ],
       "conversionMethod": "pd.DataFrame",
       "ref": "d0e89a82-53b0-434e-82ba-3b73f78638cc",
       "rows": [
        [
         "0",
         "1",
         "False",
         "Mr.",
         "Orlando",
         "N.",
         "Gee",
         null,
         "A Bike Store",
         "adventure-works\\pamela0",
         "orlando0@adventure-works.com",
         "245-555-0173",
         "L/Rlwxzp4w7RWmEgXX+/A7cXaePEPcp+KwQhl2fJL7w=",
         "1KjXYs4=",
         "3F5AE95E-B87D-4AED-95B4-C3797AFCB74F",
         "2005-08-01 00:00:00.000"
        ],
        [
         "1",
         "2",
         "False",
         "Mr.",
         "Keith",
         null,
         "Harris",
         null,
         "Progressive Sports",
         "adventure-works\\david8",
         "keith0@adventure-works.com",
         "170-555-0127",
         "YPdtRdvqeAhj6wyxEsFdshBDNXxkCXn+CRgbvJItknw=",
         "fs1ZGhY=",
         "E552F657-A9AF-4A7D-A645-C429D6E02491",
         "2006-08-01 00:00:00.000"
        ],
        [
         "2",
         "3",
         "False",
         "Ms.",
         "Donna",
         "F.",
         "Carreras",
         null,
         "Advanced Bike Components",
         "adventure-works\\jillian0",
         "donna0@adventure-works.com",
         "279-555-0130",
         "LNoK27abGQo48gGue3EBV/UrlYSToV0/s87dCRV7uJk=",
         "YTNH5Rw=",
         "130774B1-DB21-4EF3-98C8-C104BCD6ED6D",
         "2005-09-01 00:00:00.000"
        ],
        [
         "3",
         "4",
         "False",
         "Ms.",
         "Janet",
         "M.",
         "Gates",
         null,
         "Modular Cycle Systems",
         "adventure-works\\jillian0",
         "janet1@adventure-works.com",
         "710-555-0173",
         "ElzTpSNbUW1Ut+L5cWlfR7MF6nBZia8WpmGaQPjLOJA=",
         "nm7D5e4=",
         "FF862851-1DAA-4044-BE7C-3E85583C054D",
         "2006-07-01 00:00:00.000"
        ],
        [
         "4",
         "5",
         "False",
         "Mr.",
         "Lucy",
         null,
         "Harrington",
         null,
         "Metropolitan Sports Supply",
         "adventure-works\\shu0",
         "lucy0@adventure-works.com",
         "828-555-0186",
         "KJqV15wsX3PG8TS5GSddp6LFFVdd3CoRftZM/tP0+R4=",
         "cNFKU4w=",
         "83905BDC-6F5E-4F71-B162-C98DA069F38A",
         "2006-09-01 00:00:00.000"
        ]
       ],
       "shape": {
        "columns": 15,
        "rows": 5
       }
      },
      "text/html": [
       "<div>\n",
       "<style scoped>\n",
       "    .dataframe tbody tr th:only-of-type {\n",
       "        vertical-align: middle;\n",
       "    }\n",
       "\n",
       "    .dataframe tbody tr th {\n",
       "        vertical-align: top;\n",
       "    }\n",
       "\n",
       "    .dataframe thead th {\n",
       "        text-align: right;\n",
       "    }\n",
       "</style>\n",
       "<table border=\"1\" class=\"dataframe\">\n",
       "  <thead>\n",
       "    <tr style=\"text-align: right;\">\n",
       "      <th></th>\n",
       "      <th>CustomerID</th>\n",
       "      <th>NameStyle</th>\n",
       "      <th>Title</th>\n",
       "      <th>FirstName</th>\n",
       "      <th>MiddleName</th>\n",
       "      <th>LastName</th>\n",
       "      <th>Suffix</th>\n",
       "      <th>CompanyName</th>\n",
       "      <th>SalesPerson</th>\n",
       "      <th>EmailAddress</th>\n",
       "      <th>Phone</th>\n",
       "      <th>PasswordHash</th>\n",
       "      <th>PasswordSalt</th>\n",
       "      <th>rowguid</th>\n",
       "      <th>ModifiedDate</th>\n",
       "    </tr>\n",
       "  </thead>\n",
       "  <tbody>\n",
       "    <tr>\n",
       "      <th>0</th>\n",
       "      <td>1</td>\n",
       "      <td>False</td>\n",
       "      <td>Mr.</td>\n",
       "      <td>Orlando</td>\n",
       "      <td>N.</td>\n",
       "      <td>Gee</td>\n",
       "      <td>NaN</td>\n",
       "      <td>A Bike Store</td>\n",
       "      <td>adventure-works\\pamela0</td>\n",
       "      <td>orlando0@adventure-works.com</td>\n",
       "      <td>245-555-0173</td>\n",
       "      <td>L/Rlwxzp4w7RWmEgXX+/A7cXaePEPcp+KwQhl2fJL7w=</td>\n",
       "      <td>1KjXYs4=</td>\n",
       "      <td>3F5AE95E-B87D-4AED-95B4-C3797AFCB74F</td>\n",
       "      <td>2005-08-01 00:00:00.000</td>\n",
       "    </tr>\n",
       "    <tr>\n",
       "      <th>1</th>\n",
       "      <td>2</td>\n",
       "      <td>False</td>\n",
       "      <td>Mr.</td>\n",
       "      <td>Keith</td>\n",
       "      <td>NaN</td>\n",
       "      <td>Harris</td>\n",
       "      <td>NaN</td>\n",
       "      <td>Progressive Sports</td>\n",
       "      <td>adventure-works\\david8</td>\n",
       "      <td>keith0@adventure-works.com</td>\n",
       "      <td>170-555-0127</td>\n",
       "      <td>YPdtRdvqeAhj6wyxEsFdshBDNXxkCXn+CRgbvJItknw=</td>\n",
       "      <td>fs1ZGhY=</td>\n",
       "      <td>E552F657-A9AF-4A7D-A645-C429D6E02491</td>\n",
       "      <td>2006-08-01 00:00:00.000</td>\n",
       "    </tr>\n",
       "    <tr>\n",
       "      <th>2</th>\n",
       "      <td>3</td>\n",
       "      <td>False</td>\n",
       "      <td>Ms.</td>\n",
       "      <td>Donna</td>\n",
       "      <td>F.</td>\n",
       "      <td>Carreras</td>\n",
       "      <td>NaN</td>\n",
       "      <td>Advanced Bike Components</td>\n",
       "      <td>adventure-works\\jillian0</td>\n",
       "      <td>donna0@adventure-works.com</td>\n",
       "      <td>279-555-0130</td>\n",
       "      <td>LNoK27abGQo48gGue3EBV/UrlYSToV0/s87dCRV7uJk=</td>\n",
       "      <td>YTNH5Rw=</td>\n",
       "      <td>130774B1-DB21-4EF3-98C8-C104BCD6ED6D</td>\n",
       "      <td>2005-09-01 00:00:00.000</td>\n",
       "    </tr>\n",
       "    <tr>\n",
       "      <th>3</th>\n",
       "      <td>4</td>\n",
       "      <td>False</td>\n",
       "      <td>Ms.</td>\n",
       "      <td>Janet</td>\n",
       "      <td>M.</td>\n",
       "      <td>Gates</td>\n",
       "      <td>NaN</td>\n",
       "      <td>Modular Cycle Systems</td>\n",
       "      <td>adventure-works\\jillian0</td>\n",
       "      <td>janet1@adventure-works.com</td>\n",
       "      <td>710-555-0173</td>\n",
       "      <td>ElzTpSNbUW1Ut+L5cWlfR7MF6nBZia8WpmGaQPjLOJA=</td>\n",
       "      <td>nm7D5e4=</td>\n",
       "      <td>FF862851-1DAA-4044-BE7C-3E85583C054D</td>\n",
       "      <td>2006-07-01 00:00:00.000</td>\n",
       "    </tr>\n",
       "    <tr>\n",
       "      <th>4</th>\n",
       "      <td>5</td>\n",
       "      <td>False</td>\n",
       "      <td>Mr.</td>\n",
       "      <td>Lucy</td>\n",
       "      <td>NaN</td>\n",
       "      <td>Harrington</td>\n",
       "      <td>NaN</td>\n",
       "      <td>Metropolitan Sports Supply</td>\n",
       "      <td>adventure-works\\shu0</td>\n",
       "      <td>lucy0@adventure-works.com</td>\n",
       "      <td>828-555-0186</td>\n",
       "      <td>KJqV15wsX3PG8TS5GSddp6LFFVdd3CoRftZM/tP0+R4=</td>\n",
       "      <td>cNFKU4w=</td>\n",
       "      <td>83905BDC-6F5E-4F71-B162-C98DA069F38A</td>\n",
       "      <td>2006-09-01 00:00:00.000</td>\n",
       "    </tr>\n",
       "  </tbody>\n",
       "</table>\n",
       "</div>"
      ],
      "text/plain": [
       "   CustomerID  NameStyle Title FirstName MiddleName    LastName Suffix  \\\n",
       "0           1      False   Mr.   Orlando         N.         Gee    NaN   \n",
       "1           2      False   Mr.     Keith        NaN      Harris    NaN   \n",
       "2           3      False   Ms.     Donna         F.    Carreras    NaN   \n",
       "3           4      False   Ms.     Janet         M.       Gates    NaN   \n",
       "4           5      False   Mr.      Lucy        NaN  Harrington    NaN   \n",
       "\n",
       "                  CompanyName               SalesPerson  \\\n",
       "0                A Bike Store   adventure-works\\pamela0   \n",
       "1          Progressive Sports    adventure-works\\david8   \n",
       "2    Advanced Bike Components  adventure-works\\jillian0   \n",
       "3       Modular Cycle Systems  adventure-works\\jillian0   \n",
       "4  Metropolitan Sports Supply      adventure-works\\shu0   \n",
       "\n",
       "                   EmailAddress         Phone  \\\n",
       "0  orlando0@adventure-works.com  245-555-0173   \n",
       "1    keith0@adventure-works.com  170-555-0127   \n",
       "2    donna0@adventure-works.com  279-555-0130   \n",
       "3    janet1@adventure-works.com  710-555-0173   \n",
       "4     lucy0@adventure-works.com  828-555-0186   \n",
       "\n",
       "                                   PasswordHash PasswordSalt  \\\n",
       "0  L/Rlwxzp4w7RWmEgXX+/A7cXaePEPcp+KwQhl2fJL7w=     1KjXYs4=   \n",
       "1  YPdtRdvqeAhj6wyxEsFdshBDNXxkCXn+CRgbvJItknw=     fs1ZGhY=   \n",
       "2  LNoK27abGQo48gGue3EBV/UrlYSToV0/s87dCRV7uJk=     YTNH5Rw=   \n",
       "3  ElzTpSNbUW1Ut+L5cWlfR7MF6nBZia8WpmGaQPjLOJA=     nm7D5e4=   \n",
       "4  KJqV15wsX3PG8TS5GSddp6LFFVdd3CoRftZM/tP0+R4=     cNFKU4w=   \n",
       "\n",
       "                                rowguid             ModifiedDate  \n",
       "0  3F5AE95E-B87D-4AED-95B4-C3797AFCB74F  2005-08-01 00:00:00.000  \n",
       "1  E552F657-A9AF-4A7D-A645-C429D6E02491  2006-08-01 00:00:00.000  \n",
       "2  130774B1-DB21-4EF3-98C8-C104BCD6ED6D  2005-09-01 00:00:00.000  \n",
       "3  FF862851-1DAA-4044-BE7C-3E85583C054D  2006-07-01 00:00:00.000  \n",
       "4  83905BDC-6F5E-4F71-B162-C98DA069F38A  2006-09-01 00:00:00.000  "
      ]
     },
     "execution_count": 5,
     "metadata": {},
     "output_type": "execute_result"
    }
   ],
   "source": [
    "sales = pd.read_csv('sales.csv')\n",
    "sales.head()"
   ]
  },
  {
   "cell_type": "code",
   "execution_count": 6,
   "id": "7afb82aa",
   "metadata": {},
   "outputs": [
    {
     "data": {
      "text/plain": [
       "Title\n",
       "Mr.     490\n",
       "Ms.     340\n",
       "Sr.       6\n",
       "Sra.      4\n",
       "Name: count, dtype: int64"
      ]
     },
     "execution_count": 6,
     "metadata": {},
     "output_type": "execute_result"
    }
   ],
   "source": [
    "sales['Title'].value_counts()"
   ]
  },
  {
   "cell_type": "markdown",
   "id": "237e9afb",
   "metadata": {},
   "source": [
    "### Preprocesamiento"
   ]
  },
  {
   "cell_type": "code",
   "execution_count": 7,
   "id": "348c75be",
   "metadata": {},
   "outputs": [
    {
     "data": {
      "application/vnd.microsoft.datawrangler.viewer.v0+json": {
       "columns": [
        {
         "name": "index",
         "rawType": "int64",
         "type": "integer"
        },
        {
         "name": "ModifiedDate",
         "rawType": "object",
         "type": "string"
        },
        {
         "name": "T_Mr.",
         "rawType": "bool",
         "type": "boolean"
        },
        {
         "name": "T_Ms.",
         "rawType": "bool",
         "type": "boolean"
        },
        {
         "name": "T_Sr.",
         "rawType": "bool",
         "type": "boolean"
        },
        {
         "name": "T_Sra.",
         "rawType": "bool",
         "type": "boolean"
        }
       ],
       "conversionMethod": "pd.DataFrame",
       "ref": "24d5a007-96d2-4f78-b4cb-7bca579529ed",
       "rows": [
        [
         "0",
         "2005-08-01 00:00:00.000",
         "True",
         "False",
         "False",
         "False"
        ],
        [
         "1",
         "2006-08-01 00:00:00.000",
         "True",
         "False",
         "False",
         "False"
        ],
        [
         "2",
         "2005-09-01 00:00:00.000",
         "False",
         "True",
         "False",
         "False"
        ],
        [
         "3",
         "2006-07-01 00:00:00.000",
         "False",
         "True",
         "False",
         "False"
        ],
        [
         "4",
         "2006-09-01 00:00:00.000",
         "True",
         "False",
         "False",
         "False"
        ]
       ],
       "shape": {
        "columns": 5,
        "rows": 5
       }
      },
      "text/html": [
       "<div>\n",
       "<style scoped>\n",
       "    .dataframe tbody tr th:only-of-type {\n",
       "        vertical-align: middle;\n",
       "    }\n",
       "\n",
       "    .dataframe tbody tr th {\n",
       "        vertical-align: top;\n",
       "    }\n",
       "\n",
       "    .dataframe thead th {\n",
       "        text-align: right;\n",
       "    }\n",
       "</style>\n",
       "<table border=\"1\" class=\"dataframe\">\n",
       "  <thead>\n",
       "    <tr style=\"text-align: right;\">\n",
       "      <th></th>\n",
       "      <th>ModifiedDate</th>\n",
       "      <th>T_Mr.</th>\n",
       "      <th>T_Ms.</th>\n",
       "      <th>T_Sr.</th>\n",
       "      <th>T_Sra.</th>\n",
       "    </tr>\n",
       "  </thead>\n",
       "  <tbody>\n",
       "    <tr>\n",
       "      <th>0</th>\n",
       "      <td>2005-08-01 00:00:00.000</td>\n",
       "      <td>True</td>\n",
       "      <td>False</td>\n",
       "      <td>False</td>\n",
       "      <td>False</td>\n",
       "    </tr>\n",
       "    <tr>\n",
       "      <th>1</th>\n",
       "      <td>2006-08-01 00:00:00.000</td>\n",
       "      <td>True</td>\n",
       "      <td>False</td>\n",
       "      <td>False</td>\n",
       "      <td>False</td>\n",
       "    </tr>\n",
       "    <tr>\n",
       "      <th>2</th>\n",
       "      <td>2005-09-01 00:00:00.000</td>\n",
       "      <td>False</td>\n",
       "      <td>True</td>\n",
       "      <td>False</td>\n",
       "      <td>False</td>\n",
       "    </tr>\n",
       "    <tr>\n",
       "      <th>3</th>\n",
       "      <td>2006-07-01 00:00:00.000</td>\n",
       "      <td>False</td>\n",
       "      <td>True</td>\n",
       "      <td>False</td>\n",
       "      <td>False</td>\n",
       "    </tr>\n",
       "    <tr>\n",
       "      <th>4</th>\n",
       "      <td>2006-09-01 00:00:00.000</td>\n",
       "      <td>True</td>\n",
       "      <td>False</td>\n",
       "      <td>False</td>\n",
       "      <td>False</td>\n",
       "    </tr>\n",
       "  </tbody>\n",
       "</table>\n",
       "</div>"
      ],
      "text/plain": [
       "              ModifiedDate  T_Mr.  T_Ms.  T_Sr.  T_Sra.\n",
       "0  2005-08-01 00:00:00.000   True  False  False   False\n",
       "1  2006-08-01 00:00:00.000   True  False  False   False\n",
       "2  2005-09-01 00:00:00.000  False   True  False   False\n",
       "3  2006-07-01 00:00:00.000  False   True  False   False\n",
       "4  2006-09-01 00:00:00.000   True  False  False   False"
      ]
     },
     "execution_count": 7,
     "metadata": {},
     "output_type": "execute_result"
    }
   ],
   "source": [
    "df_ohe = pd.get_dummies(sales[['Title', 'ModifiedDate']], columns=['Title'], prefix='T')\n",
    "df_ohe.head()"
   ]
  },
  {
   "cell_type": "code",
   "execution_count": 8,
   "id": "102403f8",
   "metadata": {},
   "outputs": [
    {
     "data": {
      "application/vnd.microsoft.datawrangler.viewer.v0+json": {
       "columns": [
        {
         "name": "index",
         "rawType": "int64",
         "type": "integer"
        },
        {
         "name": "T_Mr.",
         "rawType": "bool",
         "type": "boolean"
        },
        {
         "name": "T_Ms.",
         "rawType": "bool",
         "type": "boolean"
        },
        {
         "name": "T_Sr.",
         "rawType": "bool",
         "type": "boolean"
        },
        {
         "name": "T_Sra.",
         "rawType": "bool",
         "type": "boolean"
        },
        {
         "name": "nDay",
         "rawType": "int64",
         "type": "integer"
        }
       ],
       "conversionMethod": "pd.DataFrame",
       "ref": "13f29296-f6fc-488c-afd9-cc79593c851b",
       "rows": [
        [
         "0",
         "True",
         "False",
         "False",
         "False",
         "31"
        ],
        [
         "1",
         "True",
         "False",
         "False",
         "False",
         "396"
        ],
        [
         "2",
         "False",
         "True",
         "False",
         "False",
         "62"
        ],
        [
         "3",
         "False",
         "True",
         "False",
         "False",
         "365"
        ],
        [
         "4",
         "True",
         "False",
         "False",
         "False",
         "427"
        ]
       ],
       "shape": {
        "columns": 5,
        "rows": 5
       }
      },
      "text/html": [
       "<div>\n",
       "<style scoped>\n",
       "    .dataframe tbody tr th:only-of-type {\n",
       "        vertical-align: middle;\n",
       "    }\n",
       "\n",
       "    .dataframe tbody tr th {\n",
       "        vertical-align: top;\n",
       "    }\n",
       "\n",
       "    .dataframe thead th {\n",
       "        text-align: right;\n",
       "    }\n",
       "</style>\n",
       "<table border=\"1\" class=\"dataframe\">\n",
       "  <thead>\n",
       "    <tr style=\"text-align: right;\">\n",
       "      <th></th>\n",
       "      <th>T_Mr.</th>\n",
       "      <th>T_Ms.</th>\n",
       "      <th>T_Sr.</th>\n",
       "      <th>T_Sra.</th>\n",
       "      <th>nDay</th>\n",
       "    </tr>\n",
       "  </thead>\n",
       "  <tbody>\n",
       "    <tr>\n",
       "      <th>0</th>\n",
       "      <td>True</td>\n",
       "      <td>False</td>\n",
       "      <td>False</td>\n",
       "      <td>False</td>\n",
       "      <td>31</td>\n",
       "    </tr>\n",
       "    <tr>\n",
       "      <th>1</th>\n",
       "      <td>True</td>\n",
       "      <td>False</td>\n",
       "      <td>False</td>\n",
       "      <td>False</td>\n",
       "      <td>396</td>\n",
       "    </tr>\n",
       "    <tr>\n",
       "      <th>2</th>\n",
       "      <td>False</td>\n",
       "      <td>True</td>\n",
       "      <td>False</td>\n",
       "      <td>False</td>\n",
       "      <td>62</td>\n",
       "    </tr>\n",
       "    <tr>\n",
       "      <th>3</th>\n",
       "      <td>False</td>\n",
       "      <td>True</td>\n",
       "      <td>False</td>\n",
       "      <td>False</td>\n",
       "      <td>365</td>\n",
       "    </tr>\n",
       "    <tr>\n",
       "      <th>4</th>\n",
       "      <td>True</td>\n",
       "      <td>False</td>\n",
       "      <td>False</td>\n",
       "      <td>False</td>\n",
       "      <td>427</td>\n",
       "    </tr>\n",
       "  </tbody>\n",
       "</table>\n",
       "</div>"
      ],
      "text/plain": [
       "   T_Mr.  T_Ms.  T_Sr.  T_Sra.  nDay\n",
       "0   True  False  False   False    31\n",
       "1   True  False  False   False   396\n",
       "2  False   True  False   False    62\n",
       "3  False   True  False   False   365\n",
       "4   True  False  False   False   427"
      ]
     },
     "execution_count": 8,
     "metadata": {},
     "output_type": "execute_result"
    }
   ],
   "source": [
    "# Convertir la columna 'fecha' a datetime\n",
    "df_ohe['ModifiedDate'] = pd.to_datetime(df_ohe['ModifiedDate'])\n",
    "# Obtener la fecha más antigua\n",
    "fecha_min = df_ohe['ModifiedDate'].min()\n",
    "\n",
    "# Calcular la diferencia en días respecto a la fecha mínima\n",
    "df_ohe['nDay'] = (df_ohe['ModifiedDate'] - fecha_min).dt.days\n",
    "\n",
    "# Eliminar columna de fecha original\n",
    "df = df_ohe.drop('ModifiedDate', axis=1)\n",
    "df.head()"
   ]
  },
  {
   "cell_type": "markdown",
   "id": "397c0891",
   "metadata": {},
   "source": [
    "### Enrenamiento del modelo"
   ]
  },
  {
   "cell_type": "code",
   "execution_count": 9,
   "id": "09ff2ff8",
   "metadata": {},
   "outputs": [
    {
     "name": "stdout",
     "output_type": "stream",
     "text": [
      "Error cuadrático medio (MSE): 102665.12674333289\n",
      "Coeficiente de determinación (R²): -0.007124506304424738\n"
     ]
    }
   ],
   "source": [
    "# Definir variables independientes y variable dependiente\n",
    "X = df.drop('nDay', axis=1)\n",
    "y = df['nDay']\n",
    "\n",
    "# Dividir datos en entrenamiento y prueba\n",
    "X_train, X_test, y_train, y_test = train_test_split(X, y, test_size=0.25, random_state=42)\n",
    "\n",
    "# Crear y entrenar el modelo de regresión lineal\n",
    "model = LinearRegression()\n",
    "model.fit(X_train, y_train)\n",
    "\n",
    "# Predecir en el conjunto de prueba\n",
    "y_pred = model.predict(X_test)\n",
    "\n",
    "# Evaluar el modelo\n",
    "mse = mean_squared_error(y_test, y_pred)\n",
    "r2 = r2_score(y_test, y_pred)\n",
    "\n",
    "print(f\"Error cuadrático medio (MSE): {mse}\")\n",
    "print(f\"Coeficiente de determinación (R²): {r2}\")\n"
   ]
  },
  {
   "cell_type": "markdown",
   "id": "6d7c8e56",
   "metadata": {},
   "source": [
    "### Empaquetar modelo"
   ]
  },
  {
   "cell_type": "code",
   "execution_count": 10,
   "id": "df799c92",
   "metadata": {},
   "outputs": [],
   "source": [
    "file = open('model.pkl', 'wb')\n",
    "pickle.dump(model, file)\n",
    "file.close()"
   ]
  },
  {
   "cell_type": "code",
   "execution_count": 11,
   "id": "e4ce0d69",
   "metadata": {},
   "outputs": [
    {
     "data": {
      "application/vnd.microsoft.datawrangler.viewer.v0+json": {
       "columns": [
        {
         "name": "index",
         "rawType": "int64",
         "type": "integer"
        },
        {
         "name": "T_Mr.",
         "rawType": "bool",
         "type": "boolean"
        },
        {
         "name": "T_Ms.",
         "rawType": "bool",
         "type": "boolean"
        },
        {
         "name": "T_Sr.",
         "rawType": "bool",
         "type": "boolean"
        },
        {
         "name": "T_Sra.",
         "rawType": "bool",
         "type": "boolean"
        }
       ],
       "conversionMethod": "pd.DataFrame",
       "ref": "e37dd660-0a33-43e4-9a63-062190ba410f",
       "rows": [
        [
         "18",
         "True",
         "False",
         "False",
         "False"
        ],
        [
         "44",
         "True",
         "False",
         "False",
         "False"
        ],
        [
         "739",
         "True",
         "False",
         "False",
         "False"
        ],
        [
         "791",
         "True",
         "False",
         "False",
         "False"
        ],
        [
         "485",
         "True",
         "False",
         "False",
         "False"
        ]
       ],
       "shape": {
        "columns": 4,
        "rows": 5
       }
      },
      "text/html": [
       "<div>\n",
       "<style scoped>\n",
       "    .dataframe tbody tr th:only-of-type {\n",
       "        vertical-align: middle;\n",
       "    }\n",
       "\n",
       "    .dataframe tbody tr th {\n",
       "        vertical-align: top;\n",
       "    }\n",
       "\n",
       "    .dataframe thead th {\n",
       "        text-align: right;\n",
       "    }\n",
       "</style>\n",
       "<table border=\"1\" class=\"dataframe\">\n",
       "  <thead>\n",
       "    <tr style=\"text-align: right;\">\n",
       "      <th></th>\n",
       "      <th>T_Mr.</th>\n",
       "      <th>T_Ms.</th>\n",
       "      <th>T_Sr.</th>\n",
       "      <th>T_Sra.</th>\n",
       "    </tr>\n",
       "  </thead>\n",
       "  <tbody>\n",
       "    <tr>\n",
       "      <th>18</th>\n",
       "      <td>True</td>\n",
       "      <td>False</td>\n",
       "      <td>False</td>\n",
       "      <td>False</td>\n",
       "    </tr>\n",
       "    <tr>\n",
       "      <th>44</th>\n",
       "      <td>True</td>\n",
       "      <td>False</td>\n",
       "      <td>False</td>\n",
       "      <td>False</td>\n",
       "    </tr>\n",
       "    <tr>\n",
       "      <th>739</th>\n",
       "      <td>True</td>\n",
       "      <td>False</td>\n",
       "      <td>False</td>\n",
       "      <td>False</td>\n",
       "    </tr>\n",
       "    <tr>\n",
       "      <th>791</th>\n",
       "      <td>True</td>\n",
       "      <td>False</td>\n",
       "      <td>False</td>\n",
       "      <td>False</td>\n",
       "    </tr>\n",
       "    <tr>\n",
       "      <th>485</th>\n",
       "      <td>True</td>\n",
       "      <td>False</td>\n",
       "      <td>False</td>\n",
       "      <td>False</td>\n",
       "    </tr>\n",
       "  </tbody>\n",
       "</table>\n",
       "</div>"
      ],
      "text/plain": [
       "     T_Mr.  T_Ms.  T_Sr.  T_Sra.\n",
       "18    True  False  False   False\n",
       "44    True  False  False   False\n",
       "739   True  False  False   False\n",
       "791   True  False  False   False\n",
       "485   True  False  False   False"
      ]
     },
     "execution_count": 11,
     "metadata": {},
     "output_type": "execute_result"
    }
   ],
   "source": [
    "# Desempaquetar para probar modelo\n",
    "\n",
    "# Crear csv para probar modelo\n",
    "rand_rows = [83, 23, 43, 98, 29]\n",
    "#testAPI = sales.iloc[rand_rows, [2, 14]]\n",
    "testAPI = X_train.iloc[rand_rows, :]\n",
    "testAPI\n",
    "\n"
   ]
  },
  {
   "cell_type": "code",
   "execution_count": 12,
   "id": "cbf6f2be",
   "metadata": {},
   "outputs": [],
   "source": [
    "# Crear csv con datos de prueba\n",
    "testAPI.to_csv('testAPI.csv', index=False)"
   ]
  },
  {
   "cell_type": "code",
   "execution_count": 13,
   "id": "cf8af4f9",
   "metadata": {},
   "outputs": [
    {
     "data": {
      "text/plain": [
       "array([366.53208556, 366.53208556, 366.53208556, 366.53208556,\n",
       "       366.53208556])"
      ]
     },
     "execution_count": 13,
     "metadata": {},
     "output_type": "execute_result"
    }
   ],
   "source": [
    "# Cargar modelo\n",
    "model = pickle.load(open('model.pkl','rb'))\n",
    "\n",
    "# Cargar datos de prueba\n",
    "df_testAPI = pd.read_csv('testAPI.csv')\n",
    "\n",
    "# Predecir bankrupt\n",
    "pred = model.predict(df_testAPI)\n",
    "pred"
   ]
  }
 ],
 "metadata": {
  "kernelspec": {
   "display_name": ".venv",
   "language": "python",
   "name": "python3"
  },
  "language_info": {
   "codemirror_mode": {
    "name": "ipython",
    "version": 3
   },
   "file_extension": ".py",
   "mimetype": "text/x-python",
   "name": "python",
   "nbconvert_exporter": "python",
   "pygments_lexer": "ipython3",
   "version": "3.11.5"
  }
 },
 "nbformat": 4,
 "nbformat_minor": 5
}
