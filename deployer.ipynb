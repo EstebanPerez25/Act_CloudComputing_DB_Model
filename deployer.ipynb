{
 "cells": [
  {
   "cell_type": "markdown",
   "id": "11d7d554",
   "metadata": {},
   "source": [
    "# Despliegue del modelo"
   ]
  },
  {
   "cell_type": "markdown",
   "id": "227f3d7d",
   "metadata": {},
   "source": [
    "### Librerías"
   ]
  },
  {
   "cell_type": "code",
   "execution_count": null,
   "id": "dc7a19ae",
   "metadata": {},
   "outputs": [],
   "source": [
    "# !pip install azureml-sdk\n",
    "# !pip install pandas\n",
    "# !pip instal scikit-learn\n",
    "# !pip install ipykernel "
   ]
  },
  {
   "cell_type": "code",
   "execution_count": 3,
   "id": "0ef35abc",
   "metadata": {},
   "outputs": [],
   "source": [
    "import json"
   ]
  },
  {
   "cell_type": "code",
   "execution_count": 6,
   "id": "83a1d5bc",
   "metadata": {},
   "outputs": [],
   "source": [
    "# Leer archivo json con credenciales\n",
    "\n",
    "id = open('credentials.json', 'r')\n",
    "mi = json.load(id)"
   ]
  },
  {
   "cell_type": "markdown",
   "id": "ab2132c7",
   "metadata": {},
   "source": [
    "### Crear grupo de recursos y cargar modelo"
   ]
  },
  {
   "cell_type": "code",
   "execution_count": 7,
   "id": "ebd2bd77",
   "metadata": {},
   "outputs": [
    {
     "name": "stderr",
     "output_type": "stream",
     "text": [
      "UserWarning: The resource group doesn't exist or was not provided. AzureML SDK is creating a resource group=rgmodel_in in location=centralindia using subscription=f4648ab7-8fbe-4375-84a2-4c02e0a37c3d.\n"
     ]
    },
    {
     "name": "stdout",
     "output_type": "stream",
     "text": [
      "Cleaning up past default Resource Group Deployments on the subscription to avoid limit of 10\n",
      "Deleting past Resource Group Deployment with name: DeployResourceGroup-33e08e9b8d\n",
      "Deploying KeyVault with name wsmodelikeyvault34a9d312.\n",
      "Deploying StorageAccount with name wsmodelistoragedee5974bb.\n",
      "Deploying Workspace with name wsmodel_in.\n",
      "Deploying AppInsights with name wsmodeliinsights9e89d411.\n",
      "Deployed AppInsights with name wsmodeliinsights9e89d411. Took 39.57 seconds.\n",
      "Deployed Workspace with name wsmodel_in. Took 42.21 seconds.\n"
     ]
    }
   ],
   "source": [
    "# Crear grupo de recursos\n",
    "from azureml.core import Workspace\n",
    "\n",
    "ws = Workspace.create(name=\"wsmodel_in\",\n",
    "                      subscription_id = mi[\"id\"],\n",
    "                      resource_group = \"rgmodel_in\",\n",
    "                      location = \"centralindia\")"
   ]
  },
  {
   "cell_type": "markdown",
   "id": "778db9a4",
   "metadata": {},
   "source": [
    "### Cargar modelo al grupo de recursos"
   ]
  },
  {
   "cell_type": "code",
   "execution_count": 8,
   "id": "e870f60e",
   "metadata": {},
   "outputs": [
    {
     "name": "stdout",
     "output_type": "stream",
     "text": [
      "Registering model dates_model\n"
     ]
    }
   ],
   "source": [
    "# Cargar modelo a grupo de recursos\n",
    "from azureml.core.model import Model\n",
    "\n",
    "registered_model = Model.register(model_path=\"model.pkl\",\n",
    "                                  model_name=\"dates_model\",\n",
    "                                  workspace=ws)"
   ]
  },
  {
   "cell_type": "markdown",
   "id": "ec58e456",
   "metadata": {},
   "source": [
    "### Crear archivo score.py"
   ]
  },
  {
   "cell_type": "code",
   "execution_count": 9,
   "id": "f8efcbfb",
   "metadata": {},
   "outputs": [],
   "source": [
    "scorepy = \"\"\"\n",
    "import json\n",
    "import joblib\n",
    "import numpy as np\n",
    "import pandas as pd\n",
    "from azureml.core.model import Model\n",
    "\n",
    "def init():\n",
    "  global model\n",
    "  model_path = Model.get_model_path('dates_model')\n",
    "  model = joblib.load(model_path)\n",
    "\n",
    "def run(raw_data):\n",
    "  try:\n",
    "    data = json.loads(raw_data)['data'][0]\n",
    "    data = pd.DataFrame(data)\n",
    "\n",
    "    result = model.predict(data)\n",
    "\n",
    "    return json.dumps({\"result\": result.tolist()})\n",
    "  except Exception as e:\n",
    "    return json.dumps({\"error\": str(e)})\n",
    "\"\"\"\n",
    "\n",
    "file_score = open(\"score.py\", \"w\")\n",
    "file_score.write(scorepy)\n",
    "file_score.close()"
   ]
  },
  {
   "cell_type": "markdown",
   "id": "0fc8bcdc",
   "metadata": {},
   "source": [
    "### Entorno virtual y dependencias"
   ]
  },
  {
   "cell_type": "code",
   "execution_count": 10,
   "id": "9f8bd874",
   "metadata": {},
   "outputs": [],
   "source": [
    "from azureml.core.environment import Environment\n",
    "virtual_env = Environment(\"env_bank\")\n",
    "\n",
    "from azureml.core.conda_dependencies import CondaDependencies\n",
    "virtual_env.python.conda_dependencies = CondaDependencies.create(conda_packages=[\n",
    "    'pandas',\n",
    "    'scikit-learn'\n",
    "    ])"
   ]
  },
  {
   "cell_type": "markdown",
   "id": "b0c4f01c",
   "metadata": {},
   "source": [
    "### Configuración de inferencia y despliegue del modelo"
   ]
  },
  {
   "cell_type": "code",
   "execution_count": 11,
   "id": "793a5199",
   "metadata": {},
   "outputs": [
    {
     "name": "stderr",
     "output_type": "stream",
     "text": [
      "C:\\Users\\Esteban\\AppData\\Local\\Temp\\ipykernel_37108\\2900293506.py:10: FutureWarning: azureml.core.model:\n",
      "To leverage new model deployment capabilities, AzureML recommends using CLI/SDK v2 to deploy models as online endpoint, \n",
      "please refer to respective documentations \n",
      "https://docs.microsoft.com/azure/machine-learning/how-to-deploy-managed-online-endpoints /\n",
      "https://docs.microsoft.com/azure/machine-learning/how-to-attach-kubernetes-anywhere \n",
      "For more information on migration, see https://aka.ms/acimoemigration \n",
      "To disable CLI/SDK v1 deprecation warning set AZUREML_LOG_DEPRECATION_WARNING_ENABLED to 'False'\n",
      "  service = Model.deploy(workspace=ws,\n"
     ]
    }
   ],
   "source": [
    "from azureml.core.model import InferenceConfig\n",
    "from azureml.core.webservice import AciWebservice\n",
    "\n",
    "inference_config = InferenceConfig(\n",
    "                                environment=virtual_env,\n",
    "                                entry_script=\"score.py\",\n",
    "                                )\n",
    "aci_config = AciWebservice.deploy_configuration(cpu_cores=0.5, memory_gb=1)\n",
    "\n",
    "service = Model.deploy(workspace=ws,\n",
    "                       name='bankrup-service',\n",
    "                       models=[registered_model],\n",
    "                       inference_config=inference_config,\n",
    "                       deployment_config=aci_config,\n",
    "                       overwrite=True,\n",
    "                       )"
   ]
  },
  {
   "cell_type": "code",
   "execution_count": 12,
   "id": "2eaedf0a",
   "metadata": {},
   "outputs": [
    {
     "name": "stdout",
     "output_type": "stream",
     "text": [
      "ACI service creation operation finished, operation \"Succeeded\"\n"
     ]
    }
   ],
   "source": [
    "# Deployment\n",
    "service.wait_for_deployment()"
   ]
  },
  {
   "cell_type": "markdown",
   "id": "bd11ea0d",
   "metadata": {},
   "source": [
    "### Guardar uri para utilizar el modelo"
   ]
  },
  {
   "cell_type": "code",
   "execution_count": 13,
   "id": "cd4111a2",
   "metadata": {},
   "outputs": [],
   "source": [
    "scoring_uri = service.scoring_uri\n",
    "\n",
    "scoreuri = json.dumps({\"URI\": [scoring_uri]})\n",
    "file = open(\"uri.json\", \"w\")\n",
    "file.write(scoreuri)\n",
    "file.close()"
   ]
  },
  {
   "cell_type": "code",
   "execution_count": null,
   "id": "95ff75bf",
   "metadata": {},
   "outputs": [],
   "source": [
    "print(scoring_uri)"
   ]
  },
  {
   "cell_type": "code",
   "execution_count": null,
   "id": "7a0c6201",
   "metadata": {},
   "outputs": [],
   "source": []
  }
 ],
 "metadata": {
  "kernelspec": {
   "display_name": ".venv",
   "language": "python",
   "name": "python3"
  },
  "language_info": {
   "codemirror_mode": {
    "name": "ipython",
    "version": 3
   },
   "file_extension": ".py",
   "mimetype": "text/x-python",
   "name": "python",
   "nbconvert_exporter": "python",
   "pygments_lexer": "ipython3",
   "version": "3.11.5"
  }
 },
 "nbformat": 4,
 "nbformat_minor": 5
}
